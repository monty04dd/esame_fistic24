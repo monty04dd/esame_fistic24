{
 "cells": [
  {
   "cell_type": "markdown",
   "id": "b031e194",
   "metadata": {
    "_cell_guid": "b1076dfc-b9ad-4769-8c92-a6c4dae69d19",
    "_uuid": "8f2839f25d086af736a60e9eeb907d3b93b6e0e5",
    "id": "b031e194",
    "papermill": {
     "duration": 0.009664,
     "end_time": "2023-03-10T10:23:33.472026",
     "exception": false,
     "start_time": "2023-03-10T10:23:33.462362",
     "status": "completed"
    },
    "tags": []
   },
   "source": [
    "# Luxury Watch\n",
    "\n",
    "**Column Details**\n",
    "* Brand: The brand of the watch.\n",
    "* Model: The model name or number of the watch.\n",
    "* Case Material: The material used to make the watch case (e.g., stainless steel, titanium, gold).\n",
    "* Strap Material: The material used to make the watch strap or bracelet (e.g., leather, rubber, metal).\n",
    "* Movement Type: The type of movement used in the watch (e.g., automatic, manual, quartz).\n",
    "* Water Resistance: The level of water resistance for the watch (e.g., 30 meters, 100 meters, 600 meters).\n",
    "* Case Diameter (mm): The diameter of the watch case in millimeters.\n",
    "* Case Thickness (mm): The thickness of the watch case in millimeters.\n",
    "* Band Width (mm): The width of the watch strap or bracelet in millimeters.\n",
    "* Dial Color: The color of the watch dial (e.g., black, blue, silver).\n",
    "* Crystal Material: The material used for the watch crystal (e.g., sapphire, mineral, hardlex).\n",
    "* Complications: Any additional functions or features beyond timekeeping (e.g., date display, chronograph, GMT).\n",
    "* Power Reserve: The amount of time the watch can run without winding or wearing (e.g., 48 hours, 72 hours).\n",
    "* Price (USD): The retail price of the watch in US dollars."
   ]
  },
  {
   "cell_type": "code",
   "execution_count": 5,
   "id": "567ab569",
   "metadata": {
    "colab": {
     "base_uri": "https://localhost:8080/"
    },
    "executionInfo": {
     "elapsed": 645,
     "status": "ok",
     "timestamp": 1733929826259,
     "user": {
      "displayName": "Daniele Grotti",
      "userId": "05993002232846155126"
     },
     "user_tz": -60
    },
    "id": "567ab569",
    "outputId": "1ce7fea2-0f19-4ad0-fef7-8bd65a9db7bc"
   },
   "outputs": [
    {
     "name": "stdout",
     "output_type": "stream",
     "text": [
      "--2024-12-11 15:10:25--  https://frenzy86.s3.eu-west-2.amazonaws.com/python/data/Luxurywatch.csv\n",
      "Resolving frenzy86.s3.eu-west-2.amazonaws.com (frenzy86.s3.eu-west-2.amazonaws.com)... 3.5.245.154, 52.95.150.194, 52.95.142.34, ...\n",
      "Connecting to frenzy86.s3.eu-west-2.amazonaws.com (frenzy86.s3.eu-west-2.amazonaws.com)|3.5.245.154|:443... connected.\n",
      "HTTP request sent, awaiting response... 200 OK\n",
      "Length: 60955 (60K) [text/csv]\n",
      "Saving to: ‘Luxurywatch.csv.1’\n",
      "\n",
      "Luxurywatch.csv.1   100%[===================>]  59.53K   346KB/s    in 0.2s    \n",
      "\n",
      "2024-12-11 15:10:25 (346 KB/s) - ‘Luxurywatch.csv.1’ saved [60955/60955]\n",
      "\n"
     ]
    }
   ],
   "source": [
    "path = \"https://frenzy86.s3.eu-west-2.amazonaws.com/python/data/Luxurywatch.csv\""
   ]
  },
  {
   "cell_type": "code",
   "execution_count": null,
   "id": "91fb00bd",
   "metadata": {},
   "outputs": [],
   "source": [
    "scscsc"
   ]
  }
 ],
 "metadata": {
  "colab": {
   "provenance": []
  },
  "kernelspec": {
   "display_name": "Python 3",
   "language": "python",
   "name": "python3"
  },
  "language_info": {
   "codemirror_mode": {
    "name": "ipython",
    "version": 3
   },
   "file_extension": ".py",
   "mimetype": "text/x-python",
   "name": "python",
   "nbconvert_exporter": "python",
   "pygments_lexer": "ipython3",
   "version": "3.10.11"
  },
  "papermill": {
   "default_parameters": {},
   "duration": 20.898753,
   "end_time": "2023-03-10T10:23:44.184126",
   "environment_variables": {},
   "exception": null,
   "input_path": "__notebook__.ipynb",
   "output_path": "__notebook__.ipynb",
   "parameters": {},
   "start_time": "2023-03-10T10:23:23.285373",
   "version": "2.4.0"
  }
 },
 "nbformat": 4,
 "nbformat_minor": 5
}
